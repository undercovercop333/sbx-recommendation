{
 "cells": [
  {
   "cell_type": "markdown",
   "metadata": {},
   "source": [
    "In this notebook we will be building XGB model and check if the reccomendation engine can be improved by using other algorithms"
   ]
  },
  {
   "cell_type": "code",
   "execution_count": 1,
   "metadata": {},
   "outputs": [],
   "source": [
    "import torch\n",
    "import torch.nn as nn\n",
    "import torch.nn.functional as F\n",
    "import numpy as np\n",
    "import pandas as pd\n",
    "import matplotlib.pyplot as plt\n",
    "from datetime import datetime"
   ]
  },
  {
   "cell_type": "code",
   "execution_count": 1,
   "metadata": {},
   "outputs": [],
   "source": [
    "!pip install xgboost"
   ]
  },
  {
   "cell_type": "markdown",
   "metadata": {},
   "source": [
    "# Creating alternative model\n",
    "\n",
    "In this step dataset preprocessed in previous step is loaded and simple baseline model is tested.\n",
    "\n",
    "Each line in a dataset contains data about one user and his final action on the offer. \n",
    "Either offer has been ignored, viewed or completed (offer proved to be interesting to a customer)."
   ]
  },
  {
   "cell_type": "code",
   "execution_count": 3,
   "metadata": {},
   "outputs": [],
   "source": [
    "df = pd.read_csv('./userdata.csv')"
   ]
  },
  {
   "cell_type": "code",
   "execution_count": 4,
   "metadata": {},
   "outputs": [
    {
     "data": {
      "text/html": [
       "<div>\n",
       "<style scoped>\n",
       "    .dataframe tbody tr th:only-of-type {\n",
       "        vertical-align: middle;\n",
       "    }\n",
       "\n",
       "    .dataframe tbody tr th {\n",
       "        vertical-align: top;\n",
       "    }\n",
       "\n",
       "    .dataframe thead th {\n",
       "        text-align: right;\n",
       "    }\n",
       "</style>\n",
       "<table border=\"1\" class=\"dataframe\">\n",
       "  <thead>\n",
       "    <tr style=\"text-align: right;\">\n",
       "      <th></th>\n",
       "      <th>age</th>\n",
       "      <th>became_member_on</th>\n",
       "      <th>gender</th>\n",
       "      <th>id</th>\n",
       "      <th>income</th>\n",
       "      <th>memberdays</th>\n",
       "      <th>event</th>\n",
       "      <th>time</th>\n",
       "      <th>offer_id</th>\n",
       "      <th>difficulty</th>\n",
       "      <th>duration</th>\n",
       "      <th>reward</th>\n",
       "      <th>web</th>\n",
       "      <th>email</th>\n",
       "      <th>mobile</th>\n",
       "      <th>social</th>\n",
       "      <th>bogo</th>\n",
       "      <th>discount</th>\n",
       "      <th>informational</th>\n",
       "    </tr>\n",
       "  </thead>\n",
       "  <tbody>\n",
       "    <tr>\n",
       "      <th>0</th>\n",
       "      <td>118</td>\n",
       "      <td>20170212</td>\n",
       "      <td>0</td>\n",
       "      <td>68be06ca386d4c31939f3a4f0e3dd783</td>\n",
       "      <td>0</td>\n",
       "      <td>1162</td>\n",
       "      <td>1.0</td>\n",
       "      <td>216.0</td>\n",
       "      <td>2906b810c7d4411798c6938adc9daaa5</td>\n",
       "      <td>10</td>\n",
       "      <td>7</td>\n",
       "      <td>2</td>\n",
       "      <td>1</td>\n",
       "      <td>1</td>\n",
       "      <td>1</td>\n",
       "      <td>0</td>\n",
       "      <td>0</td>\n",
       "      <td>1</td>\n",
       "      <td>0</td>\n",
       "    </tr>\n",
       "    <tr>\n",
       "      <th>1</th>\n",
       "      <td>68</td>\n",
       "      <td>20180426</td>\n",
       "      <td>2</td>\n",
       "      <td>e2127556f4f64592b11af22de27a7932</td>\n",
       "      <td>4</td>\n",
       "      <td>724</td>\n",
       "      <td>1.0</td>\n",
       "      <td>18.0</td>\n",
       "      <td>2906b810c7d4411798c6938adc9daaa5</td>\n",
       "      <td>10</td>\n",
       "      <td>7</td>\n",
       "      <td>2</td>\n",
       "      <td>1</td>\n",
       "      <td>1</td>\n",
       "      <td>1</td>\n",
       "      <td>0</td>\n",
       "      <td>0</td>\n",
       "      <td>1</td>\n",
       "      <td>0</td>\n",
       "    </tr>\n",
       "    <tr>\n",
       "      <th>2</th>\n",
       "      <td>118</td>\n",
       "      <td>20170925</td>\n",
       "      <td>0</td>\n",
       "      <td>8ec6ce2a7e7949b1bf142def7d0e0586</td>\n",
       "      <td>0</td>\n",
       "      <td>937</td>\n",
       "      <td>1.0</td>\n",
       "      <td>462.0</td>\n",
       "      <td>2906b810c7d4411798c6938adc9daaa5</td>\n",
       "      <td>10</td>\n",
       "      <td>7</td>\n",
       "      <td>2</td>\n",
       "      <td>1</td>\n",
       "      <td>1</td>\n",
       "      <td>1</td>\n",
       "      <td>0</td>\n",
       "      <td>0</td>\n",
       "      <td>1</td>\n",
       "      <td>0</td>\n",
       "    </tr>\n",
       "    <tr>\n",
       "      <th>3</th>\n",
       "      <td>118</td>\n",
       "      <td>20171002</td>\n",
       "      <td>0</td>\n",
       "      <td>68617ca6246f4fbc85e91a2a49552598</td>\n",
       "      <td>0</td>\n",
       "      <td>930</td>\n",
       "      <td>1.0</td>\n",
       "      <td>432.0</td>\n",
       "      <td>2906b810c7d4411798c6938adc9daaa5</td>\n",
       "      <td>10</td>\n",
       "      <td>7</td>\n",
       "      <td>2</td>\n",
       "      <td>1</td>\n",
       "      <td>1</td>\n",
       "      <td>1</td>\n",
       "      <td>0</td>\n",
       "      <td>0</td>\n",
       "      <td>1</td>\n",
       "      <td>0</td>\n",
       "    </tr>\n",
       "    <tr>\n",
       "      <th>4</th>\n",
       "      <td>65</td>\n",
       "      <td>20180209</td>\n",
       "      <td>2</td>\n",
       "      <td>389bc3fa690240e798340f5a15918d5c</td>\n",
       "      <td>3</td>\n",
       "      <td>800</td>\n",
       "      <td>2.0</td>\n",
       "      <td>498.0</td>\n",
       "      <td>2906b810c7d4411798c6938adc9daaa5</td>\n",
       "      <td>10</td>\n",
       "      <td>7</td>\n",
       "      <td>2</td>\n",
       "      <td>1</td>\n",
       "      <td>1</td>\n",
       "      <td>1</td>\n",
       "      <td>0</td>\n",
       "      <td>0</td>\n",
       "      <td>1</td>\n",
       "      <td>0</td>\n",
       "    </tr>\n",
       "  </tbody>\n",
       "</table>\n",
       "</div>"
      ],
      "text/plain": [
       "   age  became_member_on  gender                                id  income  \\\n",
       "0  118          20170212       0  68be06ca386d4c31939f3a4f0e3dd783       0   \n",
       "1   68          20180426       2  e2127556f4f64592b11af22de27a7932       4   \n",
       "2  118          20170925       0  8ec6ce2a7e7949b1bf142def7d0e0586       0   \n",
       "3  118          20171002       0  68617ca6246f4fbc85e91a2a49552598       0   \n",
       "4   65          20180209       2  389bc3fa690240e798340f5a15918d5c       3   \n",
       "\n",
       "   memberdays  event   time                          offer_id  difficulty  \\\n",
       "0        1162    1.0  216.0  2906b810c7d4411798c6938adc9daaa5          10   \n",
       "1         724    1.0   18.0  2906b810c7d4411798c6938adc9daaa5          10   \n",
       "2         937    1.0  462.0  2906b810c7d4411798c6938adc9daaa5          10   \n",
       "3         930    1.0  432.0  2906b810c7d4411798c6938adc9daaa5          10   \n",
       "4         800    2.0  498.0  2906b810c7d4411798c6938adc9daaa5          10   \n",
       "\n",
       "   duration  reward  web  email  mobile  social  bogo  discount  informational  \n",
       "0         7       2    1      1       1       0     0         1              0  \n",
       "1         7       2    1      1       1       0     0         1              0  \n",
       "2         7       2    1      1       1       0     0         1              0  \n",
       "3         7       2    1      1       1       0     0         1              0  \n",
       "4         7       2    1      1       1       0     0         1              0  "
      ]
     },
     "execution_count": 4,
     "metadata": {},
     "output_type": "execute_result"
    }
   ],
   "source": [
    "df.head()"
   ]
  },
  {
   "cell_type": "code",
   "execution_count": 5,
   "metadata": {},
   "outputs": [
    {
     "name": "stdout",
     "output_type": "stream",
     "text": [
      "Dataset contains 72628 actions\n"
     ]
    }
   ],
   "source": [
    "print(\"Dataset contains %s actions\" % len(df))"
   ]
  },
  {
   "cell_type": "markdown",
   "metadata": {},
   "source": [
    "### Let's plot the actions for one user\n",
    "\n",
    "From the output can be seen that user completed an offer `0b1e...` and viewed `ae26...`. Offer `2906..` had been ignored twice."
   ]
  },
  {
   "cell_type": "code",
   "execution_count": 6,
   "metadata": {},
   "outputs": [
    {
     "data": {
      "text/html": [
       "<div>\n",
       "<style scoped>\n",
       "    .dataframe tbody tr th:only-of-type {\n",
       "        vertical-align: middle;\n",
       "    }\n",
       "\n",
       "    .dataframe tbody tr th {\n",
       "        vertical-align: top;\n",
       "    }\n",
       "\n",
       "    .dataframe thead th {\n",
       "        text-align: right;\n",
       "    }\n",
       "</style>\n",
       "<table border=\"1\" class=\"dataframe\">\n",
       "  <thead>\n",
       "    <tr style=\"text-align: right;\">\n",
       "      <th></th>\n",
       "      <th>age</th>\n",
       "      <th>became_member_on</th>\n",
       "      <th>gender</th>\n",
       "      <th>id</th>\n",
       "      <th>income</th>\n",
       "      <th>memberdays</th>\n",
       "      <th>event</th>\n",
       "      <th>time</th>\n",
       "      <th>offer_id</th>\n",
       "      <th>difficulty</th>\n",
       "      <th>duration</th>\n",
       "      <th>reward</th>\n",
       "      <th>web</th>\n",
       "      <th>email</th>\n",
       "      <th>mobile</th>\n",
       "      <th>social</th>\n",
       "      <th>bogo</th>\n",
       "      <th>discount</th>\n",
       "      <th>informational</th>\n",
       "    </tr>\n",
       "  </thead>\n",
       "  <tbody>\n",
       "    <tr>\n",
       "      <th>5</th>\n",
       "      <td>26</td>\n",
       "      <td>20140213</td>\n",
       "      <td>2</td>\n",
       "      <td>e12aeaf2d47d42479ea1c4ac3d8286c6</td>\n",
       "      <td>2</td>\n",
       "      <td>2257</td>\n",
       "      <td>0.0</td>\n",
       "      <td>168.0</td>\n",
       "      <td>2906b810c7d4411798c6938adc9daaa5</td>\n",
       "      <td>10</td>\n",
       "      <td>7</td>\n",
       "      <td>2</td>\n",
       "      <td>1</td>\n",
       "      <td>1</td>\n",
       "      <td>1</td>\n",
       "      <td>0</td>\n",
       "      <td>0</td>\n",
       "      <td>1</td>\n",
       "      <td>0</td>\n",
       "    </tr>\n",
       "    <tr>\n",
       "      <th>6</th>\n",
       "      <td>26</td>\n",
       "      <td>20140213</td>\n",
       "      <td>2</td>\n",
       "      <td>e12aeaf2d47d42479ea1c4ac3d8286c6</td>\n",
       "      <td>2</td>\n",
       "      <td>2257</td>\n",
       "      <td>0.0</td>\n",
       "      <td>576.0</td>\n",
       "      <td>2906b810c7d4411798c6938adc9daaa5</td>\n",
       "      <td>10</td>\n",
       "      <td>7</td>\n",
       "      <td>2</td>\n",
       "      <td>1</td>\n",
       "      <td>1</td>\n",
       "      <td>1</td>\n",
       "      <td>0</td>\n",
       "      <td>0</td>\n",
       "      <td>1</td>\n",
       "      <td>0</td>\n",
       "    </tr>\n",
       "    <tr>\n",
       "      <th>7146</th>\n",
       "      <td>26</td>\n",
       "      <td>20140213</td>\n",
       "      <td>2</td>\n",
       "      <td>e12aeaf2d47d42479ea1c4ac3d8286c6</td>\n",
       "      <td>2</td>\n",
       "      <td>2257</td>\n",
       "      <td>2.0</td>\n",
       "      <td>456.0</td>\n",
       "      <td>0b1e1539f2cc45b7b9fa7c272da2e1d7</td>\n",
       "      <td>20</td>\n",
       "      <td>10</td>\n",
       "      <td>5</td>\n",
       "      <td>1</td>\n",
       "      <td>1</td>\n",
       "      <td>0</td>\n",
       "      <td>0</td>\n",
       "      <td>0</td>\n",
       "      <td>1</td>\n",
       "      <td>0</td>\n",
       "    </tr>\n",
       "    <tr>\n",
       "      <th>50876</th>\n",
       "      <td>26</td>\n",
       "      <td>20140213</td>\n",
       "      <td>2</td>\n",
       "      <td>e12aeaf2d47d42479ea1c4ac3d8286c6</td>\n",
       "      <td>2</td>\n",
       "      <td>2257</td>\n",
       "      <td>1.0</td>\n",
       "      <td>414.0</td>\n",
       "      <td>ae264e3637204a6fb9bb56bc8210ddfd</td>\n",
       "      <td>10</td>\n",
       "      <td>7</td>\n",
       "      <td>10</td>\n",
       "      <td>0</td>\n",
       "      <td>1</td>\n",
       "      <td>1</td>\n",
       "      <td>1</td>\n",
       "      <td>1</td>\n",
       "      <td>0</td>\n",
       "      <td>0</td>\n",
       "    </tr>\n",
       "  </tbody>\n",
       "</table>\n",
       "</div>"
      ],
      "text/plain": [
       "       age  became_member_on  gender                                id  \\\n",
       "5       26          20140213       2  e12aeaf2d47d42479ea1c4ac3d8286c6   \n",
       "6       26          20140213       2  e12aeaf2d47d42479ea1c4ac3d8286c6   \n",
       "7146    26          20140213       2  e12aeaf2d47d42479ea1c4ac3d8286c6   \n",
       "50876   26          20140213       2  e12aeaf2d47d42479ea1c4ac3d8286c6   \n",
       "\n",
       "       income  memberdays  event   time                          offer_id  \\\n",
       "5           2        2257    0.0  168.0  2906b810c7d4411798c6938adc9daaa5   \n",
       "6           2        2257    0.0  576.0  2906b810c7d4411798c6938adc9daaa5   \n",
       "7146        2        2257    2.0  456.0  0b1e1539f2cc45b7b9fa7c272da2e1d7   \n",
       "50876       2        2257    1.0  414.0  ae264e3637204a6fb9bb56bc8210ddfd   \n",
       "\n",
       "       difficulty  duration  reward  web  email  mobile  social  bogo  \\\n",
       "5              10         7       2    1      1       1       0     0   \n",
       "6              10         7       2    1      1       1       0     0   \n",
       "7146           20        10       5    1      1       0       0     0   \n",
       "50876          10         7      10    0      1       1       1     1   \n",
       "\n",
       "       discount  informational  \n",
       "5             1              0  \n",
       "6             1              0  \n",
       "7146          1              0  \n",
       "50876         0              0  "
      ]
     },
     "execution_count": 6,
     "metadata": {},
     "output_type": "execute_result"
    }
   ],
   "source": [
    "\n",
    "df[df.id == 'e12aeaf2d47d42479ea1c4ac3d8286c6' ]"
   ]
  },
  {
   "cell_type": "markdown",
   "metadata": {},
   "source": [
    "### Preparing data for training\n",
    "Let's create user-offer matrix by encoding each id into categorical value."
   ]
  },
  {
   "cell_type": "markdown",
   "metadata": {},
   "source": [
    "Recommendation matrix is very similar to embeddings. So we will leverage this and will train embedding along the model."
   ]
  },
  {
   "cell_type": "markdown",
   "metadata": {},
   "source": [
    "### Create additional user and offer details tensors"
   ]
  },
  {
   "cell_type": "code",
   "execution_count": 7,
   "metadata": {},
   "outputs": [],
   "source": [
    "offer_specs = ['difficulty', 'duration', 'reward', 'web',\n",
    "       'mobile', 'social', 'bogo', 'discount', 'informational']\n",
    "user_specs = ['age', 'became_member_on', 'gender', 'income', 'memberdays']"
   ]
  },
  {
   "cell_type": "code",
   "execution_count": 8,
   "metadata": {},
   "outputs": [
    {
     "name": "stdout",
     "output_type": "stream",
     "text": [
      "58102\n",
      "14526\n"
     ]
    }
   ],
   "source": [
    "N_train = int(0.8 * len(df['event']))\n",
    "N_test = 1000\n",
    "\n",
    "train_df = df[:N_train]\n",
    "test_df = df[N_train:]\n",
    "print(len(train_df))\n",
    "print(len(test_df))"
   ]
  },
  {
   "cell_type": "code",
   "execution_count": 10,
   "metadata": {},
   "outputs": [
    {
     "name": "stderr",
     "output_type": "stream",
     "text": [
      "/home/ec2-user/anaconda3/envs/pytorch_p36/lib/python3.6/site-packages/distributed/config.py:63: YAMLLoadWarning: calling yaml.load() without Loader=... is deprecated, as the default Loader is unsafe. Please read https://msg.pyyaml.org/load for full details.\n",
      "  config.update(yaml.load(text) or {})\n"
     ]
    }
   ],
   "source": [
    "from sklearn.model_selection import GridSearchCV\n",
    "from sklearn.metrics import mean_absolute_error\n",
    "from sklearn.metrics import mean_squared_error\n",
    "from sklearn.preprocessing import StandardScaler\n",
    "from sklearn.ensemble import RandomForestClassifier\n",
    "import xgboost as xgb\n",
    "\n",
    "def random_forest(train_data, train_true, test_data, test_true):\n",
    "    \n",
    "    #hyper-paramater tuning\n",
    "    values = [25, 50, 100, 200]\n",
    "    clf = RandomForestClassifier(n_jobs = -1)\n",
    "    hyper_parameter = {\"n_estimators\": values}\n",
    "    best_parameter = GridSearchCV(clf, hyper_parameter, scoring = \"neg_mean_absolute_error\", cv = 3)\n",
    "    best_parameter.fit(train_data, train_true)\n",
    "    estimators = best_parameter.best_params_[\"n_estimators\"]\n",
    "    print(\"Best RF parameter is: \", estimators)\n",
    "    #applying random forest with best hyper-parameter\n",
    "    clf = RandomForestClassifier(n_estimators = estimators, n_jobs = -1)\n",
    "    clf.fit(train_data, train_true)\n",
    "    #train_pred = clf.predict(train_data)\n",
    "    \n",
    "    return clf\n",
    "\n",
    "def xgboost_model(train_data, train_true, test_data, test_true):\n",
    "    #hyper-parameter tuning\n",
    "    hyper_parameter = {\"max_depth\":[6, 8, 10, 16], \"n_estimators\":[60, 80, 100, 120]}\n",
    "    clf = xgb.XGBClassifier()\n",
    "    best_parameter = GridSearchCV(clf, hyper_parameter, scoring = \"neg_mean_absolute_error\", cv = 3)\n",
    "    best_parameter.fit(train_data, train_true)\n",
    "    estimators = best_parameter.best_params_[\"n_estimators\"]\n",
    "    depth = best_parameter.best_params_[\"max_depth\"]\n",
    "    print(\"Best XGB parameter is %s estimators and depth %s: \" % (estimators, depth))\n",
    "    \n",
    "    clf = xgb.XGBClassifier(max_depth = depth, n_estimators = estimators)\n",
    "    clf.fit(train_data, train_true)\n",
    "    #train_pred = clf.predict(train_data)\n",
    "    \n",
    "    return clf\n",
    "\n"
   ]
  },
  {
   "cell_type": "code",
   "execution_count": 32,
   "metadata": {},
   "outputs": [
    {
     "name": "stdout",
     "output_type": "stream",
     "text": [
      "Best RF parameter is:  50\n",
      "Best XGB parameter is 60 estimators and depth 6: \n"
     ]
    }
   ],
   "source": [
    "\n",
    "pred_rf = random_forest(train_df[user_specs + offer_specs], \n",
    "                       train_df['event'].values.ravel(), \n",
    "                       test_df[user_specs + offer_specs],\n",
    "                       test_df['event'].values.ravel())\n",
    "\n",
    "pred_xgb = xgboost_model(train_df[user_specs + offer_specs], \n",
    "                       train_df['event'].values.ravel(), \n",
    "                       test_df[user_specs + offer_specs],\n",
    "                        test_df['event'].values.ravel())\n",
    "\n",
    "# error_table_regressions = pd.DataFrame(columns = [\"Model\", \"TrainMAPE(%)\", \"TrainMSE\", \"TestMAPE(%)\", \"TestMSE\"])\n",
    "# error_table_regressions = error_table_regressions.append(pd.DataFrame([[\"XGBoost Regressor\", trainMAPE_xgb*100, trainMSE_xgb, testMAPE_xgb*100, testMSE_xgb]], columns = [\"Model\", \"TrainMAPE(%)\", \"TrainMSE\", \"TestMAPE(%)\", \"TestMSE\"]))\n",
    "# error_table_regressions = error_table_regressions.append(pd.DataFrame([[\"Random Forest Regression\", trainMAPE_rf*100, trainMSE_rf, testMAPE_rf*100, testMSE_rf]], columns = [\"Model\", \"TrainMAPE(%)\", \"TrainMSE\", \"TestMAPE(%)\", \"TestMSE\"]))\n",
    "\n",
    "# error_table_regressions.reset_index(drop = True, inplace = True)"
   ]
  },
  {
   "cell_type": "code",
   "execution_count": null,
   "metadata": {},
   "outputs": [],
   "source": [
    "def random_forest(train_data, train_true, test_data, test_true):\n",
    "    \n",
    "    clf = RandomForestClassifier(n_estimators = 60, n_jobs = -1)\n",
    "    clf.fit(train_data, train_true)\n",
    "    #train_pred = clf.predict(train_data)\n",
    "    \n",
    "    return clf\n",
    "\n",
    "def xgboost_model(train_data, train_true, test_data, test_true):\n",
    "    #hyper-parameter tuning\n",
    "    \n",
    "    clf = xgb.XGBClassifier(max_depth = 16, n_estimators = 6)\n",
    "    clf.fit(train_data, train_true)\n",
    "    #train_pred = clf.predict(train_data)\n",
    "    return clf\n",
    "\n",
    "\n",
    "\n",
    "pred_rf = random_forest(train_df[user_specs + offer_specs], \n",
    "                       train_df['event'].values.ravel(), \n",
    "                       test_df[user_specs + offer_specs],\n",
    "                       test_df['event'].values.ravel())\n",
    "\n",
    "\n",
    "\n",
    "pred_xgb = xgboost_model(train_df[user_specs + offer_specs], \n",
    "                       train_df['event'].values.ravel(), \n",
    "                       test_df[user_specs + offer_specs],\n",
    "                        test_df['event'].values.ravel())\n",
    "\n",
    "# error_table_regressions = pd.DataFrame(columns = [\"Model\", \"TrainMAPE(%)\", \"TrainMSE\", \"TestMAPE(%)\", \"TestMSE\"])\n",
    "# error_table_regressions = error_table_regressions.append(pd.DataFrame([[\"XGBoost Regressor\", trainMAPE_xgb*100, trainMSE_xgb, testMAPE_xgb*100, testMSE_xgb]], columns = [\"Model\", \"TrainMAPE(%)\", \"TrainMSE\", \"TestMAPE(%)\", \"TestMSE\"]))\n",
    "# error_table_regressions = error_table_regressions.append(pd.DataFrame([[\"Random Forest Regression\", trainMAPE_rf*100, trainMSE_rf, testMAPE_rf*100, testMSE_rf]], columns = [\"Model\", \"TrainMAPE(%)\", \"TrainMSE\", \"TestMAPE(%)\", \"TestMSE\"]))\n",
    "\n",
    "# error_table_regressions.reset_index(drop = True, inplace = True)"
   ]
  },
  {
   "cell_type": "code",
   "execution_count": 7,
   "metadata": {},
   "outputs": [],
   "source": [
    "from sklearn.metrics import confusion_matrix,  accuracy_score\n",
    "import numpy as np\n",
    "import itertools\n",
    "\n",
    "def plot_confusion_matrix(cm, classes,\n",
    "                          normalize=False,\n",
    "                          title='Confusion matrix',\n",
    "                          cmap=plt.cm.Blues,\n",
    "                          save=False,\n",
    "                          figname='cm.png'):\n",
    "    \"\"\"\n",
    "    This function prints and plots the confusion matrix.\n",
    "    Normalization can be applied by setting `normalize=True`.\n",
    "    \"\"\"\n",
    "    if normalize:\n",
    "        cm = cm.astype('float') / cm.sum(axis=1)[:, np.newaxis]\n",
    "        print(\"Normalized confusion matrix\")\n",
    "    else:\n",
    "        print('Confusion matrix, without normalization')\n",
    "\n",
    "    print(cm)\n",
    "    \n",
    "    fig = plt.figure()\n",
    "    plt.imshow(cm, interpolation='nearest', cmap=cmap)\n",
    "    plt.title(title)\n",
    "    plt.colorbar()\n",
    "    tick_marks = np.arange(len(classes))\n",
    "    plt.xticks(tick_marks, classes)\n",
    "    plt.yticks(tick_marks, classes)\n",
    "\n",
    "    fmt = '.2f' if normalize else 'd'\n",
    "    thresh = cm.max() / 2.\n",
    "    for i, j in itertools.product(range(cm.shape[0]), range(cm.shape[1])):\n",
    "        plt.text(j, i, format(cm[i, j], fmt),\n",
    "               horizontalalignment=\"center\",\n",
    "               color=\"white\" if cm[i, j] > thresh else \"black\")\n",
    "\n",
    "    plt.tight_layout()\n",
    "    plt.ylabel('True label')\n",
    "    plt.xlabel('Predicted label')\n",
    "    if save:\n",
    "        plt.savefig(figname, dpi=fig.dpi)\n",
    "    plt.show()"
   ]
  },
  {
   "cell_type": "code",
   "execution_count": 20,
   "metadata": {},
   "outputs": [
    {
     "name": "stdout",
     "output_type": "stream",
     "text": [
      "Confusion matrix, without normalization\n",
      "[[  0  10   9]\n",
      " [ 17 234 164]\n",
      " [  7 116 443]]\n"
     ]
    },
    {
     "data": {
      "image/png": "[encoded data removed]",
      "text/plain": [
       "<Figure size 432x288 with 2 Axes>"
      ]
     },
     "metadata": {},
     "output_type": "display_data"
    }
   ],
   "source": [
    "pred1 = pred_rf.predict(test_df[0:1000][user_specs + offer_specs])\n",
    "test_y = test_df[0:1000]['event'].values.ravel()\n",
    "#print(pred1)\n",
    "#print(test_y)\n",
    "cm = confusion_matrix(test_y, pred1)\n",
    "classes = [0,1,2]\n",
    "plot_confusion_matrix(cm, classes, save=True, figname='./images/Recommendation-cm.png')\n"
   ]
  },
  {
   "cell_type": "code",
   "execution_count": 22,
   "metadata": {},
   "outputs": [
    {
     "name": "stdout",
     "output_type": "stream",
     "text": [
      "Confusion matrix, without normalization\n",
      "[[  0   9  10]\n",
      " [  1 237 177]\n",
      " [  0  96 470]]\n"
     ]
    },
    {
     "data": {
      "image/png": "[encoded data removed]",
      "text/plain": [
       "<Figure size 432x288 with 2 Axes>"
      ]
     },
     "metadata": {},
     "output_type": "display_data"
    }
   ],
   "source": [
    "pred2 = pred_xgb.predict(test_df[0:1000][user_specs + offer_specs])\n",
    "test_y = test_df[0:1000]['event'].values.ravel()\n",
    "#print(pred2)\n",
    "#print(test_y)\n",
    "cm = confusion_matrix(test_y, pred2)\n",
    "classes = [0,1,2]\n",
    "plot_confusion_matrix(cm, classes, save=True, figname='./images/RecommendationXGB-cm.png')"
   ]
  },
  {
   "cell_type": "code",
   "execution_count": 23,
   "metadata": {},
   "outputs": [
    {
     "name": "stdout",
     "output_type": "stream",
     "text": [
      "Accuracy for RF model: 67.7%\n",
      "Accuracy for XGB model: 70.7%\n"
     ]
    }
   ],
   "source": [
    "print(\"Accuracy for RF model: \" + str(100*accuracy_score(test_y, pred1))+ \"%\" )\n",
    "print(\"Accuracy for XGB model: \" + str(100*accuracy_score(test_y, pred2))+ \"%\" )"
   ]
  },
  {
   "cell_type": "code",
   "execution_count": 30,
   "metadata": {},
   "outputs": [
    {
     "name": "stdout",
     "output_type": "stream",
     "text": [
      "F1 score for RF model: 0.6748670269090115\n",
      "Recall score for RF model: 0.677\n",
      "Precision score for RF model: 0.6767922077922078\n",
      "\n",
      "F1 score for XGB model: 0.6948833077161537\n",
      "Recall score for XGB model: 0.707\n",
      "Precision score for XGB model: 0.6924887847472562\n"
     ]
    }
   ],
   "source": [
    "from sklearn.metrics import f1_score, recall_score, precision_score\n",
    "\n",
    "print(\"F1 score for RF model: \" + str(f1_score(test_y, pred1, average='weighted')))\n",
    "print(\"Recall score for RF model: \" + str(recall_score(test_y, pred1, average='weighted')))\n",
    "print(\"Precision score for RF model: \" + str(precision_score(test_y, pred1, average='weighted')))\n",
    "\n",
    "print(\"\")\n",
    "print(\"F1 score for XGB model: \" + str(f1_score(test_y, pred2, average='weighted')) )\n",
    "print(\"Recall score for XGB model: \" + str(recall_score(test_y, pred2, average='weighted')) )\n",
    "print(\"Precision score for XGB model: \" + str(precision_score(test_y, pred2, average='weighted')) )"
   ]
  },
  {
   "cell_type": "markdown",
   "metadata": {},
   "source": [
    "Results seem to be promising.\n",
    "Let's try to improve them even more, and simplify data as from the correlation matrix it can be noticed that model has difficulties to differentiate if user will view an offer or even respond to it.\n",
    "This can be due to the fact that responding to an offer implies that user had definitely viewed an offer."
   ]
  },
  {
   "cell_type": "markdown",
   "metadata": {},
   "source": [
    "# Approach 2. Remove outlier fields"
   ]
  },
  {
   "cell_type": "code",
   "execution_count": 31,
   "metadata": {},
   "outputs": [],
   "source": [
    "df = pd.read_csv('./userdata.csv')"
   ]
  },
  {
   "cell_type": "code",
   "execution_count": 32,
   "metadata": {},
   "outputs": [],
   "source": [
    "df['member_days'] = df['became_member_on'].astype(str).astype('datetime64[ns]', format = \"%Y%m%d\")\n",
    "df['member_days'] = df['member_days'] - df['member_days'].min()\n",
    "df['member_days'] = df['member_days'].apply(lambda x: int(x.days))"
   ]
  },
  {
   "cell_type": "markdown",
   "metadata": {},
   "source": [
    "Let's check once again the correlation between gender and event response.\n",
    "We are interested in X and O genders. Where X is the customers with anonymized data."
   ]
  },
  {
   "cell_type": "code",
   "execution_count": 33,
   "metadata": {},
   "outputs": [
    {
     "data": {
      "text/plain": [
       "<matplotlib.axes._subplots.AxesSubplot at 0x7f5bf612aac8>"
      ]
     },
     "execution_count": 33,
     "metadata": {},
     "output_type": "execute_result"
    },
    {
     "data": {
      "image/png": "[encoded data removed]",
      "text/plain": [
       "<Figure size 432x288 with 1 Axes>"
      ]
     },
     "metadata": {},
     "output_type": "display_data"
    }
   ],
   "source": [
    "df[df.gender == 0]['event'].plot.hist()#.count_values()"
   ]
  },
  {
   "cell_type": "code",
   "execution_count": 51,
   "metadata": {},
   "outputs": [
    {
     "data": {
      "text/plain": [
       "<matplotlib.axes._subplots.AxesSubplot at 0x7fce27785ba8>"
      ]
     },
     "execution_count": 51,
     "metadata": {},
     "output_type": "execute_result"
    },
    {
     "data": {
      "image/png": "[encoded data removed]",
      "text/plain": [
       "<Figure size 432x288 with 1 Axes>"
      ]
     },
     "metadata": {},
     "output_type": "display_data"
    }
   ],
   "source": [
    "df[df.gender == 1]['event'].plot.hist()#.count_values()"
   ]
  },
  {
   "cell_type": "code",
   "execution_count": 52,
   "metadata": {},
   "outputs": [
    {
     "data": {
      "text/plain": [
       "<matplotlib.axes._subplots.AxesSubplot at 0x7fce274b47f0>"
      ]
     },
     "execution_count": 52,
     "metadata": {},
     "output_type": "execute_result"
    },
    {
     "data": {
      "image/png": "[encoded data removed]",
      "text/plain": [
       "<Figure size 432x288 with 1 Axes>"
      ]
     },
     "metadata": {},
     "output_type": "display_data"
    }
   ],
   "source": [
    "df[df.gender == 2]['event'].plot.hist()#.count_values()"
   ]
  },
  {
   "cell_type": "code",
   "execution_count": 53,
   "metadata": {},
   "outputs": [
    {
     "data": {
      "text/plain": [
       "<matplotlib.axes._subplots.AxesSubplot at 0x7fce258fabe0>"
      ]
     },
     "execution_count": 53,
     "metadata": {},
     "output_type": "execute_result"
    },
    {
     "data": {
      "image/png": "[encoded data removed]",
      "text/plain": [
       "<Figure size 432x288 with 1 Axes>"
      ]
     },
     "metadata": {},
     "output_type": "display_data"
    }
   ],
   "source": [
    "df[df.gender == 3]['event'].plot.hist()#.count_values()"
   ]
  },
  {
   "cell_type": "code",
   "execution_count": 54,
   "metadata": {},
   "outputs": [
    {
     "data": {
      "text/plain": [
       "<matplotlib.axes._subplots.AxesSubplot at 0x7fce258fa0f0>"
      ]
     },
     "execution_count": 54,
     "metadata": {},
     "output_type": "execute_result"
    },
    {
     "data": {
      "image/png": "[encoded data removed]",
      "text/plain": [
       "<Figure size 432x288 with 1 Axes>"
      ]
     },
     "metadata": {},
     "output_type": "display_data"
    }
   ],
   "source": [
    "df[df.income == 0]['event'].plot.hist()#.count_values()"
   ]
  },
  {
   "cell_type": "markdown",
   "metadata": {},
   "source": [
    "Now we test the model performance with removing rows where user with age and income as None\n",
    "They seem to view offer but rarely respond to it."
   ]
  },
  {
   "cell_type": "code",
   "execution_count": 34,
   "metadata": {},
   "outputs": [],
   "source": [
    "# We remove them by index as it seems to be the easiest way\n",
    "indexes_to_drop = list(df[df.gender == 0].index) + list(df[df.income == 0].index)\n",
    "df = df.drop(df.index[indexes_to_drop]).reset_index()"
   ]
  },
  {
   "cell_type": "code",
   "execution_count": 35,
   "metadata": {},
   "outputs": [],
   "source": [
    "df = df.reset_index()"
   ]
  },
  {
   "cell_type": "code",
   "execution_count": 36,
   "metadata": {},
   "outputs": [
    {
     "data": {
      "text/html": [
       "<div>\n",
       "<style scoped>\n",
       "    .dataframe tbody tr th:only-of-type {\n",
       "        vertical-align: middle;\n",
       "    }\n",
       "\n",
       "    .dataframe tbody tr th {\n",
       "        vertical-align: top;\n",
       "    }\n",
       "\n",
       "    .dataframe thead th {\n",
       "        text-align: right;\n",
       "    }\n",
       "</style>\n",
       "<table border=\"1\" class=\"dataframe\">\n",
       "  <thead>\n",
       "    <tr style=\"text-align: right;\">\n",
       "      <th></th>\n",
       "      <th>level_0</th>\n",
       "      <th>index</th>\n",
       "      <th>age</th>\n",
       "      <th>became_member_on</th>\n",
       "      <th>gender</th>\n",
       "      <th>id</th>\n",
       "      <th>income</th>\n",
       "      <th>memberdays</th>\n",
       "      <th>event</th>\n",
       "      <th>time</th>\n",
       "      <th>...</th>\n",
       "      <th>reward</th>\n",
       "      <th>web</th>\n",
       "      <th>email</th>\n",
       "      <th>mobile</th>\n",
       "      <th>social</th>\n",
       "      <th>bogo</th>\n",
       "      <th>discount</th>\n",
       "      <th>informational</th>\n",
       "      <th>member_days</th>\n",
       "      <th>became_member_date</th>\n",
       "    </tr>\n",
       "  </thead>\n",
       "  <tbody>\n",
       "    <tr>\n",
       "      <th>1544</th>\n",
       "      <td>1544</td>\n",
       "      <td>1767</td>\n",
       "      <td>18</td>\n",
       "      <td>20130808</td>\n",
       "      <td>2</td>\n",
       "      <td>2825186736d4433c98653bcea5957cb3</td>\n",
       "      <td>3</td>\n",
       "      <td>2446</td>\n",
       "      <td>1.0</td>\n",
       "      <td>426.0</td>\n",
       "      <td>...</td>\n",
       "      <td>2</td>\n",
       "      <td>1</td>\n",
       "      <td>1</td>\n",
       "      <td>1</td>\n",
       "      <td>0</td>\n",
       "      <td>0</td>\n",
       "      <td>1</td>\n",
       "      <td>0</td>\n",
       "      <td>10</td>\n",
       "      <td>2013-08-08</td>\n",
       "    </tr>\n",
       "    <tr>\n",
       "      <th>6187</th>\n",
       "      <td>6187</td>\n",
       "      <td>7099</td>\n",
       "      <td>38</td>\n",
       "      <td>20130808</td>\n",
       "      <td>2</td>\n",
       "      <td>2ce987015ec0404a97ba333e8e814090</td>\n",
       "      <td>4</td>\n",
       "      <td>2446</td>\n",
       "      <td>2.0</td>\n",
       "      <td>462.0</td>\n",
       "      <td>...</td>\n",
       "      <td>2</td>\n",
       "      <td>1</td>\n",
       "      <td>1</td>\n",
       "      <td>1</td>\n",
       "      <td>0</td>\n",
       "      <td>0</td>\n",
       "      <td>1</td>\n",
       "      <td>0</td>\n",
       "      <td>10</td>\n",
       "      <td>2013-08-08</td>\n",
       "    </tr>\n",
       "    <tr>\n",
       "      <th>25138</th>\n",
       "      <td>25138</td>\n",
       "      <td>28716</td>\n",
       "      <td>90</td>\n",
       "      <td>20130808</td>\n",
       "      <td>2</td>\n",
       "      <td>8f11863ca0bb42f78bacaff28e0a30ff</td>\n",
       "      <td>4</td>\n",
       "      <td>2446</td>\n",
       "      <td>1.0</td>\n",
       "      <td>612.0</td>\n",
       "      <td>...</td>\n",
       "      <td>3</td>\n",
       "      <td>1</td>\n",
       "      <td>1</td>\n",
       "      <td>1</td>\n",
       "      <td>1</td>\n",
       "      <td>0</td>\n",
       "      <td>1</td>\n",
       "      <td>0</td>\n",
       "      <td>10</td>\n",
       "      <td>2013-08-08</td>\n",
       "    </tr>\n",
       "    <tr>\n",
       "      <th>27477</th>\n",
       "      <td>27477</td>\n",
       "      <td>31397</td>\n",
       "      <td>38</td>\n",
       "      <td>20130808</td>\n",
       "      <td>2</td>\n",
       "      <td>2ce987015ec0404a97ba333e8e814090</td>\n",
       "      <td>4</td>\n",
       "      <td>2446</td>\n",
       "      <td>0.0</td>\n",
       "      <td>576.0</td>\n",
       "      <td>...</td>\n",
       "      <td>5</td>\n",
       "      <td>1</td>\n",
       "      <td>1</td>\n",
       "      <td>1</td>\n",
       "      <td>0</td>\n",
       "      <td>1</td>\n",
       "      <td>0</td>\n",
       "      <td>0</td>\n",
       "      <td>10</td>\n",
       "      <td>2013-08-08</td>\n",
       "    </tr>\n",
       "    <tr>\n",
       "      <th>32220</th>\n",
       "      <td>32220</td>\n",
       "      <td>36845</td>\n",
       "      <td>18</td>\n",
       "      <td>20130808</td>\n",
       "      <td>2</td>\n",
       "      <td>2825186736d4433c98653bcea5957cb3</td>\n",
       "      <td>3</td>\n",
       "      <td>2446</td>\n",
       "      <td>1.0</td>\n",
       "      <td>6.0</td>\n",
       "      <td>...</td>\n",
       "      <td>0</td>\n",
       "      <td>1</td>\n",
       "      <td>1</td>\n",
       "      <td>1</td>\n",
       "      <td>0</td>\n",
       "      <td>0</td>\n",
       "      <td>0</td>\n",
       "      <td>1</td>\n",
       "      <td>10</td>\n",
       "      <td>2013-08-08</td>\n",
       "    </tr>\n",
       "    <tr>\n",
       "      <th>38523</th>\n",
       "      <td>38523</td>\n",
       "      <td>44072</td>\n",
       "      <td>18</td>\n",
       "      <td>20130808</td>\n",
       "      <td>2</td>\n",
       "      <td>2825186736d4433c98653bcea5957cb3</td>\n",
       "      <td>3</td>\n",
       "      <td>2446</td>\n",
       "      <td>1.0</td>\n",
       "      <td>336.0</td>\n",
       "      <td>...</td>\n",
       "      <td>0</td>\n",
       "      <td>0</td>\n",
       "      <td>1</td>\n",
       "      <td>1</td>\n",
       "      <td>1</td>\n",
       "      <td>0</td>\n",
       "      <td>0</td>\n",
       "      <td>1</td>\n",
       "      <td>10</td>\n",
       "      <td>2013-08-08</td>\n",
       "    </tr>\n",
       "    <tr>\n",
       "      <th>38524</th>\n",
       "      <td>38524</td>\n",
       "      <td>44073</td>\n",
       "      <td>18</td>\n",
       "      <td>20130808</td>\n",
       "      <td>2</td>\n",
       "      <td>2825186736d4433c98653bcea5957cb3</td>\n",
       "      <td>3</td>\n",
       "      <td>2446</td>\n",
       "      <td>1.0</td>\n",
       "      <td>576.0</td>\n",
       "      <td>...</td>\n",
       "      <td>0</td>\n",
       "      <td>0</td>\n",
       "      <td>1</td>\n",
       "      <td>1</td>\n",
       "      <td>1</td>\n",
       "      <td>0</td>\n",
       "      <td>0</td>\n",
       "      <td>1</td>\n",
       "      <td>10</td>\n",
       "      <td>2013-08-08</td>\n",
       "    </tr>\n",
       "    <tr>\n",
       "      <th>46523</th>\n",
       "      <td>46523</td>\n",
       "      <td>53234</td>\n",
       "      <td>38</td>\n",
       "      <td>20130808</td>\n",
       "      <td>2</td>\n",
       "      <td>2ce987015ec0404a97ba333e8e814090</td>\n",
       "      <td>4</td>\n",
       "      <td>2446</td>\n",
       "      <td>1.0</td>\n",
       "      <td>504.0</td>\n",
       "      <td>...</td>\n",
       "      <td>10</td>\n",
       "      <td>0</td>\n",
       "      <td>1</td>\n",
       "      <td>1</td>\n",
       "      <td>1</td>\n",
       "      <td>1</td>\n",
       "      <td>0</td>\n",
       "      <td>0</td>\n",
       "      <td>10</td>\n",
       "      <td>2013-08-08</td>\n",
       "    </tr>\n",
       "    <tr>\n",
       "      <th>55944</th>\n",
       "      <td>55944</td>\n",
       "      <td>64037</td>\n",
       "      <td>90</td>\n",
       "      <td>20130808</td>\n",
       "      <td>2</td>\n",
       "      <td>8f11863ca0bb42f78bacaff28e0a30ff</td>\n",
       "      <td>4</td>\n",
       "      <td>2446</td>\n",
       "      <td>2.0</td>\n",
       "      <td>492.0</td>\n",
       "      <td>...</td>\n",
       "      <td>5</td>\n",
       "      <td>1</td>\n",
       "      <td>1</td>\n",
       "      <td>1</td>\n",
       "      <td>1</td>\n",
       "      <td>1</td>\n",
       "      <td>0</td>\n",
       "      <td>0</td>\n",
       "      <td>10</td>\n",
       "      <td>2013-08-08</td>\n",
       "    </tr>\n",
       "    <tr>\n",
       "      <th>62209</th>\n",
       "      <td>62209</td>\n",
       "      <td>71264</td>\n",
       "      <td>90</td>\n",
       "      <td>20130808</td>\n",
       "      <td>2</td>\n",
       "      <td>8f11863ca0bb42f78bacaff28e0a30ff</td>\n",
       "      <td>4</td>\n",
       "      <td>2446</td>\n",
       "      <td>1.0</td>\n",
       "      <td>342.0</td>\n",
       "      <td>...</td>\n",
       "      <td>10</td>\n",
       "      <td>1</td>\n",
       "      <td>1</td>\n",
       "      <td>1</td>\n",
       "      <td>1</td>\n",
       "      <td>1</td>\n",
       "      <td>0</td>\n",
       "      <td>0</td>\n",
       "      <td>10</td>\n",
       "      <td>2013-08-08</td>\n",
       "    </tr>\n",
       "  </tbody>\n",
       "</table>\n",
       "<p>10 rows × 23 columns</p>\n",
       "</div>"
      ],
      "text/plain": [
       "       level_0  index  age  became_member_on  gender  \\\n",
       "1544      1544   1767   18          20130808       2   \n",
       "6187      6187   7099   38          20130808       2   \n",
       "25138    25138  28716   90          20130808       2   \n",
       "27477    27477  31397   38          20130808       2   \n",
       "32220    32220  36845   18          20130808       2   \n",
       "38523    38523  44072   18          20130808       2   \n",
       "38524    38524  44073   18          20130808       2   \n",
       "46523    46523  53234   38          20130808       2   \n",
       "55944    55944  64037   90          20130808       2   \n",
       "62209    62209  71264   90          20130808       2   \n",
       "\n",
       "                                     id  income  memberdays  event   time  \\\n",
       "1544   2825186736d4433c98653bcea5957cb3       3        2446    1.0  426.0   \n",
       "6187   2ce987015ec0404a97ba333e8e814090       4        2446    2.0  462.0   \n",
       "25138  8f11863ca0bb42f78bacaff28e0a30ff       4        2446    1.0  612.0   \n",
       "27477  2ce987015ec0404a97ba333e8e814090       4        2446    0.0  576.0   \n",
       "32220  2825186736d4433c98653bcea5957cb3       3        2446    1.0    6.0   \n",
       "38523  2825186736d4433c98653bcea5957cb3       3        2446    1.0  336.0   \n",
       "38524  2825186736d4433c98653bcea5957cb3       3        2446    1.0  576.0   \n",
       "46523  2ce987015ec0404a97ba333e8e814090       4        2446    1.0  504.0   \n",
       "55944  8f11863ca0bb42f78bacaff28e0a30ff       4        2446    2.0  492.0   \n",
       "62209  8f11863ca0bb42f78bacaff28e0a30ff       4        2446    1.0  342.0   \n",
       "\n",
       "       ... reward  web  email  mobile  social  bogo  discount  informational  \\\n",
       "1544   ...      2    1      1       1       0     0         1              0   \n",
       "6187   ...      2    1      1       1       0     0         1              0   \n",
       "25138  ...      3    1      1       1       1     0         1              0   \n",
       "27477  ...      5    1      1       1       0     1         0              0   \n",
       "32220  ...      0    1      1       1       0     0         0              1   \n",
       "38523  ...      0    0      1       1       1     0         0              1   \n",
       "38524  ...      0    0      1       1       1     0         0              1   \n",
       "46523  ...     10    0      1       1       1     1         0              0   \n",
       "55944  ...      5    1      1       1       1     1         0              0   \n",
       "62209  ...     10    1      1       1       1     1         0              0   \n",
       "\n",
       "       member_days  became_member_date  \n",
       "1544            10          2013-08-08  \n",
       "6187            10          2013-08-08  \n",
       "25138           10          2013-08-08  \n",
       "27477           10          2013-08-08  \n",
       "32220           10          2013-08-08  \n",
       "38523           10          2013-08-08  \n",
       "38524           10          2013-08-08  \n",
       "46523           10          2013-08-08  \n",
       "55944           10          2013-08-08  \n",
       "62209           10          2013-08-08  \n",
       "\n",
       "[10 rows x 23 columns]"
      ]
     },
     "execution_count": 36,
     "metadata": {},
     "output_type": "execute_result"
    }
   ],
   "source": [
    "df['became_member_date'] = df['became_member_on'].astype(str).astype('datetime64[ns]', format = \"%Y%m%d\")\n",
    "df[df['member_days'] == 10]"
   ]
  },
  {
   "cell_type": "markdown",
   "metadata": {},
   "source": [
    "Let's encode `event` field to be only binary value, with event ignored as 0, and offer completed - as 1."
   ]
  },
  {
   "cell_type": "code",
   "execution_count": 37,
   "metadata": {},
   "outputs": [],
   "source": [
    "df['event'] = df['event'].map({0:0, 1:0, 2:1})"
   ]
  },
  {
   "cell_type": "code",
   "execution_count": 38,
   "metadata": {},
   "outputs": [],
   "source": [
    "offer_specs = ['difficulty', 'duration', 'reward', 'web', 'email',\n",
    "       'mobile', 'social', 'bogo', 'discount', 'informational']\n",
    "user_specs = ['age', 'member_days', 'gender', 'income']"
   ]
  },
  {
   "cell_type": "code",
   "execution_count": 39,
   "metadata": {},
   "outputs": [
    {
     "name": "stdout",
     "output_type": "stream",
     "text": [
      "50694\n",
      "12674\n"
     ]
    }
   ],
   "source": [
    "N_train = int(0.8 * len(df['event']))\n",
    "N_test = 1000\n",
    "\n",
    "train_df = df[:N_train]\n",
    "test_df = df[N_train:]\n",
    "print(len(train_df))\n",
    "print(len(test_df))"
   ]
  },
  {
   "cell_type": "code",
   "execution_count": 40,
   "metadata": {},
   "outputs": [],
   "source": [
    "pred_rf = random_forest(train_df[user_specs + offer_specs], \n",
    "                       train_df['event'].values.ravel(), \n",
    "                       test_df[user_specs + offer_specs],\n",
    "                       test_df['event'].values.ravel())\n",
    "\n",
    "pred_xgb = xgboost_model(train_df[user_specs + offer_specs], \n",
    "                       train_df['event'].values.ravel(), \n",
    "                       test_df[user_specs + offer_specs],\n",
    "                        test_df['event'].values.ravel())"
   ]
  },
  {
   "cell_type": "code",
   "execution_count": 41,
   "metadata": {},
   "outputs": [
    {
     "name": "stdout",
     "output_type": "stream",
     "text": [
      "[1 1 1 ... 1 0 0]\n",
      "[1 1 1 ... 1 0 0]\n",
      "Accuracy for RF model: 61.25138077954868%\n",
      "Confusion matrix, without normalization\n",
      "[[4574  582]\n",
      " [4329 3189]]\n"
     ]
    },
    {
     "data": {
      "image/png": "[encoded data removed]",
      "text/plain": [
       "<Figure size 432x288 with 2 Axes>"
      ]
     },
     "metadata": {},
     "output_type": "display_data"
    }
   ],
   "source": [
    "pred1 = pred_rf.predict(test_df[user_specs + offer_specs])\n",
    "test_y = test_df['event'].values.ravel()\n",
    "print(pred1)\n",
    "print(test_y)\n",
    "\n",
    "print(\"Accuracy for RF model: \" + str(100*accuracy_score(test_y, pred1))+ \"%\" )\n",
    "cm = confusion_matrix(test_y, pred1)\n",
    "classes = [0,1,2]\n",
    "plot_confusion_matrix(cm, classes)"
   ]
  },
  {
   "cell_type": "code",
   "execution_count": 42,
   "metadata": {},
   "outputs": [
    {
     "name": "stdout",
     "output_type": "stream",
     "text": [
      "[1 1 1 ... 1 0 0]\n",
      "[1 1 1 ... 1 0 0]\n",
      "Accuracy for XGB model: 71.65851349218873%\n",
      "Confusion matrix, without normalization\n",
      "[[2892 2264]\n",
      " [1328 6190]]\n"
     ]
    },
    {
     "data": {
      "image/png": "[encoded data removed]",
      "text/plain": [
       "<Figure size 432x288 with 2 Axes>"
      ]
     },
     "metadata": {},
     "output_type": "display_data"
    }
   ],
   "source": [
    "pred2 = pred_xgb.predict(test_df[user_specs + offer_specs])\n",
    "test_y = test_df['event'].values.ravel()\n",
    "print(pred2)\n",
    "print(test_y)\n",
    "\n",
    "print(\"Accuracy for XGB model: \" + str(100*accuracy_score(test_y, pred2))+ \"%\" )\n",
    "cm = confusion_matrix(test_y, pred2)\n",
    "classes = [0,1,2]\n",
    "plot_confusion_matrix(cm, classes)"
   ]
  },
  {
   "cell_type": "markdown",
   "metadata": {},
   "source": [
    "It seem that results are the same.\n",
    "Let's try the model with encoding now \n",
    "an `event` field to be only binary value, with event ignored as 0, and offer completed - as 1."
   ]
  },
  {
   "cell_type": "markdown",
   "metadata": {},
   "source": [
    "# Approach 3. Building Performance optimized model"
   ]
  },
  {
   "cell_type": "code",
   "execution_count": 8,
   "metadata": {},
   "outputs": [
    {
     "name": "stdout",
     "output_type": "stream",
     "text": [
      "58102\n",
      "14526\n"
     ]
    }
   ],
   "source": [
    "df = pd.read_csv('./userdata.csv')\n",
    "\n",
    "df['member_days'] = df['became_member_on'].astype(str).astype('datetime64[ns]', format = \"%Y%m%d\")\n",
    "df['member_days'] = df['member_days'] - df['member_days'].min()\n",
    "df['member_days'] = df['member_days'].apply(lambda x: int(x.days))\n",
    "\n",
    "df['event'] = df['event'].map({0:0, 1:1, 2:1})\n",
    "\n",
    "df = df.reset_index()\n",
    "\n",
    "offer_specs = ['difficulty', 'duration', 'reward', 'web', 'email',\n",
    "       'mobile', 'social', 'bogo', 'discount', 'informational']\n",
    "user_specs = ['age', 'member_days', 'gender', 'income']\n",
    "\n",
    "N_train = int(0.8 * len(df['event']))\n",
    "N_test = 1000\n",
    "\n",
    "train_df = df[:N_train]\n",
    "test_df = df[N_train:]\n",
    "print(len(train_df))\n",
    "print(len(test_df))\n",
    "\n",
    "from sklearn.model_selection import GridSearchCV\n",
    "from sklearn.metrics import mean_absolute_error\n",
    "from sklearn.metrics import mean_squared_error\n",
    "from sklearn.preprocessing import StandardScaler\n",
    "from sklearn.ensemble import RandomForestClassifier\n",
    "import xgboost as xgb\n",
    "\n",
    "def random_forest(train_data, train_true, test_data, test_true):\n",
    "   \n",
    "    clf = RandomForestClassifier(n_estimators = 100, n_jobs = -1)\n",
    "    clf.fit(train_data, train_true)\n",
    "    #train_pred = clf.predict(train_data)\n",
    "    \n",
    "    return clf\n",
    "\n",
    "def xgboost_model(train_data, train_true, test_data, test_true):\n",
    "    \n",
    "    clf = xgb.XGBClassifier(max_depth = 16, n_estimators = 60)\n",
    "    clf.fit(train_data, train_true)\n",
    "    #train_pred = clf.predict(train_data)\n",
    "    \n",
    "    return clf"
   ]
  },
  {
   "cell_type": "code",
   "execution_count": 9,
   "metadata": {},
   "outputs": [],
   "source": [
    "pred_rf = random_forest(train_df[user_specs + offer_specs], \n",
    "                       train_df['event'].values.ravel(), \n",
    "                       test_df[user_specs + offer_specs],\n",
    "                       test_df['event'].values.ravel())\n",
    "\n",
    "pred_xgb = xgboost_model(train_df[user_specs + offer_specs], \n",
    "                       train_df['event'].values.ravel(), \n",
    "                       test_df[user_specs + offer_specs],\n",
    "                        test_df['event'].values.ravel())"
   ]
  },
  {
   "cell_type": "code",
   "execution_count": 10,
   "metadata": {},
   "outputs": [
    {
     "name": "stdout",
     "output_type": "stream",
     "text": [
      "Accuracy for RF model: 97.39999999999999%\n",
      "Confusion matrix, without normalization\n",
      "[[  0  19]\n",
      " [  7 974]]\n"
     ]
    },
    {
     "data": {
      "image/png": "[encoded data removed]",
      "text/plain": [
       "<Figure size 432x288 with 2 Axes>"
      ]
     },
     "metadata": {},
     "output_type": "display_data"
    }
   ],
   "source": [
    "pred1 = pred_rf.predict(test_df[0:1000][user_specs + offer_specs])\n",
    "test_y = test_df[0:1000]['event'].values.ravel()\n",
    "#print(pred1)\n",
    "#print(test_y)\n",
    "\n",
    "print(\"Accuracy for RF model: \" + str(100*accuracy_score(test_y, pred1))+ \"%\" )\n",
    "cm = confusion_matrix(test_y, pred1)\n",
    "classes = [0,1,2]\n",
    "plot_confusion_matrix(cm, classes, save=True, figname='./images/RF-model-cm.png')"
   ]
  },
  {
   "cell_type": "code",
   "execution_count": 11,
   "metadata": {},
   "outputs": [
    {
     "name": "stdout",
     "output_type": "stream",
     "text": [
      "Accuracy for XGB model: 98.0%\n",
      "Confusion matrix, without normalization\n",
      "[[  0  19]\n",
      " [  1 980]]\n"
     ]
    },
    {
     "data": {
      "image/png": "[encoded data removed]",
      "text/plain": [
       "<Figure size 432x288 with 2 Axes>"
      ]
     },
     "metadata": {},
     "output_type": "display_data"
    }
   ],
   "source": [
    "pred2 = pred_xgb.predict(test_df[0:1000][user_specs + offer_specs])\n",
    "test_y = test_df[0:1000]['event'].values.ravel()\n",
    "#print(pred2)\n",
    "#print(test_y)\n",
    "\n",
    "print(\"Accuracy for XGB model: \" + str(100*accuracy_score(test_y, pred2))+ \"%\" )\n",
    "cm = confusion_matrix(test_y, pred2)\n",
    "classes = [0,1,2]\n",
    "plot_confusion_matrix(cm, classes, save=True, figname='./images/XGB-model-cm.png')"
   ]
  },
  {
   "cell_type": "markdown",
   "metadata": {},
   "source": [
    "This looks like a significant improve that can be used in production to save costs and send offers to those users who are going to be interested in companies offers without ignoring them."
   ]
  },
  {
   "cell_type": "code",
   "execution_count": 12,
   "metadata": {},
   "outputs": [
    {
     "name": "stdout",
     "output_type": "stream",
     "text": [
      "F1 score for RF model: 0.9680790273556231\n",
      "Recall score for RF model: 0.974\n",
      "Precision score for RF model: 0.9622296072507553\n",
      "\n",
      "F1 score for XGB model: 0.971090909090909\n",
      "Recall score for XGB model: 0.98\n",
      "Precision score for XGB model: 0.9623423423423424\n"
     ]
    }
   ],
   "source": [
    "from sklearn.metrics import f1_score, recall_score, precision_score\n",
    "\n",
    "print(\"F1 score for RF model: \" + str(f1_score(test_y, pred1, average='weighted')))\n",
    "print(\"Recall score for RF model: \" + str(recall_score(test_y, pred1, average='weighted')))\n",
    "print(\"Precision score for RF model: \" + str(precision_score(test_y, pred1, average='weighted')))\n",
    "\n",
    "print(\"\")\n",
    "print(\"F1 score for XGB model: \" + str(f1_score(test_y, pred2, average='weighted')) )\n",
    "print(\"Recall score for XGB model: \" + str(recall_score(test_y, pred2, average='weighted')) )\n",
    "print(\"Precision score for XGB model: \" + str(precision_score(test_y, pred2, average='weighted')) )"
   ]
  },
  {
   "cell_type": "markdown",
   "metadata": {},
   "source": [
    "This proves to be a very good model for ad hoc predictions and predictions on subsections of customer by regions or cities."
   ]
  },
  {
   "cell_type": "code",
   "execution_count": null,
   "metadata": {},
   "outputs": [],
   "source": []
  }
 ],
 "metadata": {
  "kernelspec": {
   "display_name": "conda_pytorch_p36",
   "language": "python",
   "name": "conda_pytorch_p36"
  },
  "language_info": {
   "codemirror_mode": {
    "name": "ipython",
    "version": 3
   },
   "file_extension": ".py",
   "mimetype": "text/x-python",
   "name": "python",
   "nbconvert_exporter": "python",
   "pygments_lexer": "ipython3",
   "version": "3.6.5"
  }
 },
 "nbformat": 4,
 "nbformat_minor": 4
}
